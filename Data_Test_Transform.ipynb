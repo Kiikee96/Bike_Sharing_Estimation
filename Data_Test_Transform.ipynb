{
 "cells": [
  {
   "cell_type": "markdown",
   "metadata": {},
   "source": [
    "<b> Análisis previo de los datos </b>"
   ]
  },
  {
   "cell_type": "code",
   "execution_count": 1,
   "metadata": {},
   "outputs": [],
   "source": [
    "import pandas as pd\n",
    "import numpy as np\n",
    "import math\n",
    "\n",
    "trainingStations = 'trainingStations.csv'\n",
    "deployStations = 'deployStations.csv'\n",
    "testStations = 'testStations.csv'\n",
    "Stations_DistanceMatrix = 'Stations_DistanceMatrix.csv'\n",
    "\n",
    "df_trainingStations = pd.read_csv(trainingStations)\n",
    "df_deployStations = pd.read_csv(deployStations)\n",
    "df_testStations = pd.read_csv(testStations)\n",
    "df_Stations_DistanceMatrix = pd.read_csv(Stations_DistanceMatrix)\n",
    "\n"
   ]
  },
  {
   "cell_type": "code",
   "execution_count": 2,
   "metadata": {},
   "outputs": [],
   "source": [
    "#Sustituimos los . de las colmnas por _\n",
    "df_trainingStations.rename(columns={'windMaxSpeed.m.s':'windMaxSpeed_m_s',\n",
    "                          'windMeanSpeed.m.s':'windMeanSpeed_m_s',\n",
    "                          'windDirection.grades':'windDirection_grades',\n",
    "                          'temperature.C':'temperature_C',\n",
    "                          'relHumidity.HR':'relHumidity_HR',\n",
    "                          'airPressure.mb':'airPressure_mb',\n",
    "                          'precipitation.l.m2':'precipitation_l_m2'}, \n",
    "                 inplace=True)\n",
    "\n",
    "df_testStations.rename(columns={'windMaxSpeed.m.s':'windMaxSpeed_m_s',\n",
    "                          'windMeanSpeed.m.s':'windMeanSpeed_m_s',\n",
    "                          'windDirection.grades':'windDirection_grades',\n",
    "                          'temperature.C':'temperature_C',\n",
    "                          'relHumidity.HR':'relHumidity_HR',\n",
    "                          'airPressure.mb':'airPressure_mb',\n",
    "                          'precipitation.l.m2':'precipitation_l_m2'}, \n",
    "                 inplace=True)"
   ]
  },
  {
   "cell_type": "code",
   "execution_count": 3,
   "metadata": {},
   "outputs": [],
   "source": [
    "#Dataframe en el que se calcula la media para las columnas que queremos sustituir los datos\n",
    "#faltantes. En el se calcula la media y se agrupa por año, mes y día.\n",
    "\n",
    "df_test_mean_day = df_testStations[['station','year','month','day',\\\n",
    "                                            'windMaxSpeed_m_s','windMeanSpeed_m_s',\\\n",
    "                                            'windDirection_grades','temperature_C',\\\n",
    "                                            'relHumidity_HR','airPressure_mb',\\\n",
    "                                            'precipitation_l_m2','bikes_3h_ago']]\\\n",
    "                                            .groupby(['station','year','month','day']).mean()"
   ]
  },
  {
   "cell_type": "code",
   "execution_count": 4,
   "metadata": {},
   "outputs": [
    {
     "name": "stdout",
     "output_type": "stream",
     "text": [
      "Reemplazando valores faltantes para bikes_3h_ago...\n",
      "Valores para bikes_3h_ago reemplazados\n",
      "----------------------------------------\n",
      "Se han sustituido los valores faltantes por la media.\n"
     ]
    }
   ],
   "source": [
    "#Bucle en el que se rellenan los datos faltantes. En cada uno de los for se localizan los valores\n",
    "#faltantes y estos se sustituyen por los que hemos calculado en el dataframe de la celda anterior.\n",
    "import math\n",
    "\n",
    "print('Reemplazando valores faltantes para bikes_3h_ago...')\n",
    "\n",
    "counter = 0\n",
    "for index, row in df_testStations.iterrows():\n",
    "    if math.isnan(row['bikes_3h_ago']) == True:\n",
    "        mean = df_test_mean_day[df_test_mean_day.index.get_level_values('station') == row['station']]\n",
    "        mean = mean[mean.index.get_level_values('year') == row['year']]\n",
    "        mean = mean[mean.index.get_level_values('month') == row['month']]\n",
    "        mean = mean[mean.index.get_level_values('day') == row['day']]\n",
    "        for index, row in mean.iterrows():\n",
    "            mean_result = row['bikes_3h_ago']\n",
    "        df_testStations.loc[counter,'bikes_3h_ago'] = mean_result\n",
    "    counter = counter+1\n",
    "    \n",
    "print('Valores para bikes_3h_ago reemplazados') \n",
    "print('----------------------------------------')\n",
    "print('Se han sustituido los valores faltantes por la media.')"
   ]
  },
  {
   "cell_type": "code",
   "execution_count": 5,
   "metadata": {},
   "outputs": [],
   "source": [
    "#Eliminamos la columna year, ya que en los datos de test solo evaluamos 1 año.\n",
    "del df_testStations[\"year\"]"
   ]
  },
  {
   "cell_type": "code",
   "execution_count": 6,
   "metadata": {},
   "outputs": [],
   "source": [
    "#Guardamos el csv en un archivo con la media en los valores faltantes.\n",
    "df_testStations.to_csv('testStationsMissing.csv', index=False)"
   ]
  },
  {
   "cell_type": "code",
   "execution_count": 7,
   "metadata": {},
   "outputs": [],
   "source": [
    "testStations_mean = 'testStationsMissing.csv'\n",
    "df_testStations_mean = pd.read_csv(testStations_mean)"
   ]
  },
  {
   "cell_type": "code",
   "execution_count": 8,
   "metadata": {},
   "outputs": [],
   "source": [
    "#Reemplazamos los valores faltantes por la media total de los demás (es probable que \n",
    "#durante todo un día no se hayan recogido datos, es por eso que algunas columnas siguen \n",
    "#con datos faltantes)\n",
    "counter = 0\n",
    "mean_whole_col = df_testStations_mean[['bikes_3h_ago']].mean(skipna = True)\n",
    "for index, row in df_testStations_mean.iterrows():\n",
    "    if math.isnan(row['bikes_3h_ago']) == True:\n",
    "        df_testStations_mean.loc[counter,'bikes_3h_ago'] = mean_whole_col.values[0]\n",
    "    counter = counter + 1"
   ]
  },
  {
   "cell_type": "code",
   "execution_count": 9,
   "metadata": {},
   "outputs": [],
   "source": [
    "#Primero pasamos las variables cualitativas a cuantitativas (solo los días de la semana):\n",
    "# Monday -> 1\n",
    "# Tuesday -> 2\n",
    "# Wednesday -> 3\n",
    "# Thursday -> 4\n",
    "# Friday -> 5\n",
    "# Saturday -> 6\n",
    "# Sunday -> 7\n",
    "\n",
    "def switch_weekday(arg):\n",
    "    switcher = {\n",
    "        \"Monday\": 1,\n",
    "        \"Tuesday\": 2,\n",
    "        \"Wednesday\": 3,\n",
    "        \"Thursday\": 4,\n",
    "        \"Friday\": 5,\n",
    "        \"Saturday\": 6,\n",
    "        \"Sunday\": 7,\n",
    "    }\n",
    "    return switcher.get(arg, \"Invalid Weekday\")"
   ]
  },
  {
   "cell_type": "code",
   "execution_count": 10,
   "metadata": {},
   "outputs": [
    {
     "name": "stdout",
     "output_type": "stream",
     "text": [
      "Cambiando variable cualitativa por cuantitativa...\n",
      "Variables cambiadas satisfactoriamente.\n"
     ]
    }
   ],
   "source": [
    "col_to_change = [\"weekday\"]\n",
    "\n",
    "print(\"Cambiando variable cualitativa por cuantitativa...\")\n",
    "\n",
    "for index, row in df_testStations_mean.iterrows():\n",
    "    df_testStations_mean.loc[index,col_to_change] = switch_weekday(row[\"weekday\"])\n",
    "print(\"Variables cambiadas satisfactoriamente.\")"
   ]
  },
  {
   "cell_type": "code",
   "execution_count": 11,
   "metadata": {},
   "outputs": [],
   "source": [
    "df_testStations_mean.to_csv('testStationsMissing.csv', index=False)"
   ]
  },
  {
   "cell_type": "code",
   "execution_count": 12,
   "metadata": {},
   "outputs": [],
   "source": [
    "#Normalizamos todas las columnas menos Year, en test solo evaluamos sobre 2014\n",
    "df_testStations_mean_mmn = df_testStations_mean\n",
    "\n",
    "cols_to_norm = [\"station\", \"latitude\", \"longitude\", \"numDocks\", \"timestamp\", \"month\", \\\n",
    "                \"day\", \"hour\", \"weekday\", \"weekhour\", \"windMaxSpeed_m_s\", \\\n",
    "                \"windMeanSpeed_m_s\", \"windDirection_grades\", \"temperature_C\", \"relHumidity_HR\", \\\n",
    "                \"airPressure_mb\", \"precipitation_l_m2\", \"bikes_3h_ago\", \\\n",
    "                \"full_profile_3h_diff_bikes\", \"full_profile_bikes\", \\\n",
    "                \"short_profile_3h_diff_bikes\", \"short_profile_bikes\"]\n",
    "df_testStations_mean_mmn[cols_to_norm] = df_testStations_mean_mmn[cols_to_norm].apply(lambda x: (x - x.min()) / (x.max() - x.min()))\n"
   ]
  },
  {
   "cell_type": "code",
   "execution_count": 13,
   "metadata": {},
   "outputs": [],
   "source": [
    "df_testStations_mean_zscore = df_testStations_mean\n",
    "#Valor absoluto de la Z-Score Normalization.\n",
    "df_testStations_mean_zscore[cols_to_norm] = df_testStations_mean_zscore[cols_to_norm].apply(lambda x: (x - x.mean()) / (x.std(ddof=0)))"
   ]
  },
  {
   "cell_type": "code",
   "execution_count": 14,
   "metadata": {},
   "outputs": [],
   "source": [
    "df_testStations_mean_mmn.to_csv('testStationsMissingNormMMN.csv', index=False)\n",
    "df_testStations_mean_zscore.to_csv('trainingStationsMissingNormZScore.csv', index=False)"
   ]
  }
 ],
 "metadata": {
  "kernelspec": {
   "display_name": "Python 3",
   "language": "python",
   "name": "python3"
  },
  "language_info": {
   "codemirror_mode": {
    "name": "ipython",
    "version": 3
   },
   "file_extension": ".py",
   "mimetype": "text/x-python",
   "name": "python",
   "nbconvert_exporter": "python",
   "pygments_lexer": "ipython3",
   "version": "3.7.3"
  }
 },
 "nbformat": 4,
 "nbformat_minor": 4
}
