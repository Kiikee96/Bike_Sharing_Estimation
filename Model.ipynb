{
 "cells": [
  {
   "cell_type": "code",
   "execution_count": 79,
   "metadata": {},
   "outputs": [],
   "source": [
    "import math\n",
    "import pandas as pd\n",
    "import numpy as np\n",
    "from sklearn.linear_model import LinearRegression\n",
    "from sklearn.ensemble import RandomForestRegressor\n",
    "from sklearn.neural_network import MLPRegressor\n",
    "from sklearn.model_selection import train_test_split\n",
    "from sklearn import metrics\n",
    "\n",
    "\n",
    "csv_trainingStations_mean_zscore = 'trainingStationsMissingNormZScore.csv'\n",
    "df_trainingStations_mean_zscore = pd.read_csv(csv_trainingStations_mean_zscore)\n",
    "\n",
    "csv_testStations_mean_zscore = 'testStationsMissingNormZScore.csv'\n",
    "df_testStations_mean_zscore = pd.read_csv(csv_testStations_mean_zscore)\n",
    "\n",
    "csv_testStations = 'testStations.csv'\n",
    "df_testStations = pd.read_csv(csv_testStations)"
   ]
  },
  {
   "cell_type": "code",
   "execution_count": 80,
   "metadata": {},
   "outputs": [],
   "source": [
    "\n",
    "cols_to_keep = [\"station\", \"latitude\", \"longitude\", \"numDocks\", \"timestamp\", \"month\", \\\n",
    "                \"day\", \"hour\", \"weekday\", \"weekhour\", \"isHoliday\", \"temperature_C\", \"bikes_3h_ago\", \\\n",
    "                \"full_profile_3h_diff_bikes\", \"full_profile_bikes\", \\\n",
    "                \"short_profile_3h_diff_bikes\", \"short_profile_bikes\", \"bikes\",\"Id\"]\n",
    "#df_trainingStations_mean_zscore.to_csv('X_train_pd.csv', index=False)"
   ]
  },
  {
   "cell_type": "code",
   "execution_count": 81,
   "metadata": {},
   "outputs": [
    {
     "data": {
      "text/html": [
       "<div>\n",
       "<style scoped>\n",
       "    .dataframe tbody tr th:only-of-type {\n",
       "        vertical-align: middle;\n",
       "    }\n",
       "\n",
       "    .dataframe tbody tr th {\n",
       "        vertical-align: top;\n",
       "    }\n",
       "\n",
       "    .dataframe thead th {\n",
       "        text-align: right;\n",
       "    }\n",
       "</style>\n",
       "<table border=\"1\" class=\"dataframe\">\n",
       "  <thead>\n",
       "    <tr style=\"text-align: right;\">\n",
       "      <th></th>\n",
       "      <th>station</th>\n",
       "      <th>latitude</th>\n",
       "      <th>longitude</th>\n",
       "      <th>numDocks</th>\n",
       "      <th>timestamp</th>\n",
       "      <th>month</th>\n",
       "      <th>day</th>\n",
       "      <th>hour</th>\n",
       "      <th>weekday</th>\n",
       "      <th>weekhour</th>\n",
       "      <th>...</th>\n",
       "      <th>relHumidity_HR</th>\n",
       "      <th>airPressure_mb</th>\n",
       "      <th>precipitation_l_m2</th>\n",
       "      <th>bikes_3h_ago</th>\n",
       "      <th>full_profile_3h_diff_bikes</th>\n",
       "      <th>full_profile_bikes</th>\n",
       "      <th>short_profile_3h_diff_bikes</th>\n",
       "      <th>short_profile_bikes</th>\n",
       "      <th>bikes</th>\n",
       "      <th>Id</th>\n",
       "    </tr>\n",
       "  </thead>\n",
       "  <tbody>\n",
       "    <tr>\n",
       "      <th>0</th>\n",
       "      <td>-1.073977</td>\n",
       "      <td>0.929882</td>\n",
       "      <td>-1.213803</td>\n",
       "      <td>-0.683290</td>\n",
       "      <td>-1.731867</td>\n",
       "      <td>-1.323280</td>\n",
       "      <td>-1.672743</td>\n",
       "      <td>-1.661580</td>\n",
       "      <td>-1.002326</td>\n",
       "      <td>-1.229603</td>\n",
       "      <td>...</td>\n",
       "      <td>-0.414667</td>\n",
       "      <td>0.418567</td>\n",
       "      <td>-0.063604</td>\n",
       "      <td>-0.097680</td>\n",
       "      <td>-0.932455</td>\n",
       "      <td>-0.459985</td>\n",
       "      <td>-0.704587</td>\n",
       "      <td>-0.859403</td>\n",
       "      <td>4</td>\n",
       "      <td>1</td>\n",
       "    </tr>\n",
       "    <tr>\n",
       "      <th>1</th>\n",
       "      <td>-1.073977</td>\n",
       "      <td>0.929882</td>\n",
       "      <td>-1.213803</td>\n",
       "      <td>-0.683290</td>\n",
       "      <td>-1.731588</td>\n",
       "      <td>-1.323280</td>\n",
       "      <td>-1.672743</td>\n",
       "      <td>-1.517109</td>\n",
       "      <td>-1.002326</td>\n",
       "      <td>-1.208933</td>\n",
       "      <td>...</td>\n",
       "      <td>0.074615</td>\n",
       "      <td>0.448996</td>\n",
       "      <td>-0.063604</td>\n",
       "      <td>-0.327360</td>\n",
       "      <td>-1.144962</td>\n",
       "      <td>-0.848615</td>\n",
       "      <td>-0.666024</td>\n",
       "      <td>-0.911014</td>\n",
       "      <td>7</td>\n",
       "      <td>2</td>\n",
       "    </tr>\n",
       "    <tr>\n",
       "      <th>2</th>\n",
       "      <td>-1.073977</td>\n",
       "      <td>0.929882</td>\n",
       "      <td>-1.213803</td>\n",
       "      <td>-0.683290</td>\n",
       "      <td>-1.731308</td>\n",
       "      <td>-1.323280</td>\n",
       "      <td>-1.672743</td>\n",
       "      <td>-1.372638</td>\n",
       "      <td>-1.002326</td>\n",
       "      <td>-1.188263</td>\n",
       "      <td>...</td>\n",
       "      <td>0.200352</td>\n",
       "      <td>0.361515</td>\n",
       "      <td>-0.063604</td>\n",
       "      <td>-0.327360</td>\n",
       "      <td>-1.274608</td>\n",
       "      <td>-0.947675</td>\n",
       "      <td>-0.588897</td>\n",
       "      <td>-0.807792</td>\n",
       "      <td>11</td>\n",
       "      <td>3</td>\n",
       "    </tr>\n",
       "    <tr>\n",
       "      <th>3</th>\n",
       "      <td>-1.073977</td>\n",
       "      <td>0.929882</td>\n",
       "      <td>-1.213803</td>\n",
       "      <td>-0.683290</td>\n",
       "      <td>-1.731028</td>\n",
       "      <td>-1.323280</td>\n",
       "      <td>-1.672743</td>\n",
       "      <td>-1.228168</td>\n",
       "      <td>-1.002326</td>\n",
       "      <td>-1.167593</td>\n",
       "      <td>...</td>\n",
       "      <td>0.074615</td>\n",
       "      <td>0.361515</td>\n",
       "      <td>-0.063604</td>\n",
       "      <td>-0.292409</td>\n",
       "      <td>-1.248491</td>\n",
       "      <td>-1.079329</td>\n",
       "      <td>-0.704587</td>\n",
       "      <td>-0.756181</td>\n",
       "      <td>10</td>\n",
       "      <td>4</td>\n",
       "    </tr>\n",
       "    <tr>\n",
       "      <th>4</th>\n",
       "      <td>-1.073977</td>\n",
       "      <td>0.929882</td>\n",
       "      <td>-1.213803</td>\n",
       "      <td>-0.683290</td>\n",
       "      <td>-1.730749</td>\n",
       "      <td>-1.323280</td>\n",
       "      <td>-1.672743</td>\n",
       "      <td>-1.083697</td>\n",
       "      <td>-1.002326</td>\n",
       "      <td>-1.146923</td>\n",
       "      <td>...</td>\n",
       "      <td>0.074615</td>\n",
       "      <td>0.274034</td>\n",
       "      <td>-0.063604</td>\n",
       "      <td>-0.097680</td>\n",
       "      <td>-1.226695</td>\n",
       "      <td>-1.432120</td>\n",
       "      <td>-0.704587</td>\n",
       "      <td>-0.807792</td>\n",
       "      <td>11</td>\n",
       "      <td>5</td>\n",
       "    </tr>\n",
       "    <tr>\n",
       "      <th>...</th>\n",
       "      <td>...</td>\n",
       "      <td>...</td>\n",
       "      <td>...</td>\n",
       "      <td>...</td>\n",
       "      <td>...</td>\n",
       "      <td>...</td>\n",
       "      <td>...</td>\n",
       "      <td>...</td>\n",
       "      <td>...</td>\n",
       "      <td>...</td>\n",
       "      <td>...</td>\n",
       "      <td>...</td>\n",
       "      <td>...</td>\n",
       "      <td>...</td>\n",
       "      <td>...</td>\n",
       "      <td>...</td>\n",
       "      <td>...</td>\n",
       "      <td>...</td>\n",
       "      <td>...</td>\n",
       "      <td>...</td>\n",
       "      <td>...</td>\n",
       "    </tr>\n",
       "    <tr>\n",
       "      <th>198115</th>\n",
       "      <td>1.108153</td>\n",
       "      <td>1.328760</td>\n",
       "      <td>0.890846</td>\n",
       "      <td>1.455762</td>\n",
       "      <td>1.730771</td>\n",
       "      <td>-0.146677</td>\n",
       "      <td>1.743359</td>\n",
       "      <td>1.083364</td>\n",
       "      <td>1.002690</td>\n",
       "      <td>1.106090</td>\n",
       "      <td>...</td>\n",
       "      <td>0.074615</td>\n",
       "      <td>-0.075890</td>\n",
       "      <td>-0.063604</td>\n",
       "      <td>2.084280</td>\n",
       "      <td>0.493395</td>\n",
       "      <td>0.047436</td>\n",
       "      <td>0.656538</td>\n",
       "      <td>0.290994</td>\n",
       "      <td>17</td>\n",
       "      <td>198116</td>\n",
       "    </tr>\n",
       "    <tr>\n",
       "      <th>198116</th>\n",
       "      <td>1.108153</td>\n",
       "      <td>1.328760</td>\n",
       "      <td>0.890846</td>\n",
       "      <td>1.455762</td>\n",
       "      <td>1.731051</td>\n",
       "      <td>-0.146677</td>\n",
       "      <td>1.743359</td>\n",
       "      <td>1.227835</td>\n",
       "      <td>1.002690</td>\n",
       "      <td>1.126760</td>\n",
       "      <td>...</td>\n",
       "      <td>0.137484</td>\n",
       "      <td>-0.075890</td>\n",
       "      <td>-0.063604</td>\n",
       "      <td>2.199120</td>\n",
       "      <td>0.493574</td>\n",
       "      <td>0.047327</td>\n",
       "      <td>0.658601</td>\n",
       "      <td>0.284552</td>\n",
       "      <td>0</td>\n",
       "      <td>198117</td>\n",
       "    </tr>\n",
       "    <tr>\n",
       "      <th>198117</th>\n",
       "      <td>1.108153</td>\n",
       "      <td>1.328760</td>\n",
       "      <td>0.890846</td>\n",
       "      <td>1.455762</td>\n",
       "      <td>1.731330</td>\n",
       "      <td>-0.146677</td>\n",
       "      <td>1.743359</td>\n",
       "      <td>1.372306</td>\n",
       "      <td>1.002690</td>\n",
       "      <td>1.147430</td>\n",
       "      <td>...</td>\n",
       "      <td>0.200352</td>\n",
       "      <td>0.011591</td>\n",
       "      <td>-0.063604</td>\n",
       "      <td>1.624920</td>\n",
       "      <td>0.493706</td>\n",
       "      <td>0.047218</td>\n",
       "      <td>0.658143</td>\n",
       "      <td>0.281484</td>\n",
       "      <td>0</td>\n",
       "      <td>198118</td>\n",
       "    </tr>\n",
       "    <tr>\n",
       "      <th>198118</th>\n",
       "      <td>1.108153</td>\n",
       "      <td>1.328760</td>\n",
       "      <td>0.890846</td>\n",
       "      <td>1.455762</td>\n",
       "      <td>1.731610</td>\n",
       "      <td>-0.146677</td>\n",
       "      <td>1.743359</td>\n",
       "      <td>1.516777</td>\n",
       "      <td>1.002690</td>\n",
       "      <td>1.168100</td>\n",
       "      <td>...</td>\n",
       "      <td>0.326090</td>\n",
       "      <td>0.011591</td>\n",
       "      <td>-0.063604</td>\n",
       "      <td>1.050720</td>\n",
       "      <td>0.493791</td>\n",
       "      <td>0.047109</td>\n",
       "      <td>0.656309</td>\n",
       "      <td>0.281178</td>\n",
       "      <td>0</td>\n",
       "      <td>198119</td>\n",
       "    </tr>\n",
       "    <tr>\n",
       "      <th>198119</th>\n",
       "      <td>1.108153</td>\n",
       "      <td>1.328760</td>\n",
       "      <td>0.890846</td>\n",
       "      <td>1.455762</td>\n",
       "      <td>1.731890</td>\n",
       "      <td>-0.146677</td>\n",
       "      <td>1.743359</td>\n",
       "      <td>1.661247</td>\n",
       "      <td>1.002690</td>\n",
       "      <td>1.188769</td>\n",
       "      <td>...</td>\n",
       "      <td>0.640433</td>\n",
       "      <td>0.099072</td>\n",
       "      <td>-0.063604</td>\n",
       "      <td>-0.901560</td>\n",
       "      <td>0.493715</td>\n",
       "      <td>0.047000</td>\n",
       "      <td>0.651496</td>\n",
       "      <td>0.280871</td>\n",
       "      <td>0</td>\n",
       "      <td>198120</td>\n",
       "    </tr>\n",
       "  </tbody>\n",
       "</table>\n",
       "<p>198120 rows × 25 columns</p>\n",
       "</div>"
      ],
      "text/plain": [
       "         station  latitude  longitude  numDocks  timestamp     month  \\\n",
       "0      -1.073977  0.929882  -1.213803 -0.683290  -1.731867 -1.323280   \n",
       "1      -1.073977  0.929882  -1.213803 -0.683290  -1.731588 -1.323280   \n",
       "2      -1.073977  0.929882  -1.213803 -0.683290  -1.731308 -1.323280   \n",
       "3      -1.073977  0.929882  -1.213803 -0.683290  -1.731028 -1.323280   \n",
       "4      -1.073977  0.929882  -1.213803 -0.683290  -1.730749 -1.323280   \n",
       "...          ...       ...        ...       ...        ...       ...   \n",
       "198115  1.108153  1.328760   0.890846  1.455762   1.730771 -0.146677   \n",
       "198116  1.108153  1.328760   0.890846  1.455762   1.731051 -0.146677   \n",
       "198117  1.108153  1.328760   0.890846  1.455762   1.731330 -0.146677   \n",
       "198118  1.108153  1.328760   0.890846  1.455762   1.731610 -0.146677   \n",
       "198119  1.108153  1.328760   0.890846  1.455762   1.731890 -0.146677   \n",
       "\n",
       "             day      hour   weekday  weekhour  ...  relHumidity_HR  \\\n",
       "0      -1.672743 -1.661580 -1.002326 -1.229603  ...       -0.414667   \n",
       "1      -1.672743 -1.517109 -1.002326 -1.208933  ...        0.074615   \n",
       "2      -1.672743 -1.372638 -1.002326 -1.188263  ...        0.200352   \n",
       "3      -1.672743 -1.228168 -1.002326 -1.167593  ...        0.074615   \n",
       "4      -1.672743 -1.083697 -1.002326 -1.146923  ...        0.074615   \n",
       "...          ...       ...       ...       ...  ...             ...   \n",
       "198115  1.743359  1.083364  1.002690  1.106090  ...        0.074615   \n",
       "198116  1.743359  1.227835  1.002690  1.126760  ...        0.137484   \n",
       "198117  1.743359  1.372306  1.002690  1.147430  ...        0.200352   \n",
       "198118  1.743359  1.516777  1.002690  1.168100  ...        0.326090   \n",
       "198119  1.743359  1.661247  1.002690  1.188769  ...        0.640433   \n",
       "\n",
       "        airPressure_mb  precipitation_l_m2  bikes_3h_ago  \\\n",
       "0             0.418567           -0.063604     -0.097680   \n",
       "1             0.448996           -0.063604     -0.327360   \n",
       "2             0.361515           -0.063604     -0.327360   \n",
       "3             0.361515           -0.063604     -0.292409   \n",
       "4             0.274034           -0.063604     -0.097680   \n",
       "...                ...                 ...           ...   \n",
       "198115       -0.075890           -0.063604      2.084280   \n",
       "198116       -0.075890           -0.063604      2.199120   \n",
       "198117        0.011591           -0.063604      1.624920   \n",
       "198118        0.011591           -0.063604      1.050720   \n",
       "198119        0.099072           -0.063604     -0.901560   \n",
       "\n",
       "        full_profile_3h_diff_bikes  full_profile_bikes  \\\n",
       "0                        -0.932455           -0.459985   \n",
       "1                        -1.144962           -0.848615   \n",
       "2                        -1.274608           -0.947675   \n",
       "3                        -1.248491           -1.079329   \n",
       "4                        -1.226695           -1.432120   \n",
       "...                            ...                 ...   \n",
       "198115                    0.493395            0.047436   \n",
       "198116                    0.493574            0.047327   \n",
       "198117                    0.493706            0.047218   \n",
       "198118                    0.493791            0.047109   \n",
       "198119                    0.493715            0.047000   \n",
       "\n",
       "        short_profile_3h_diff_bikes  short_profile_bikes  bikes      Id  \n",
       "0                         -0.704587            -0.859403      4       1  \n",
       "1                         -0.666024            -0.911014      7       2  \n",
       "2                         -0.588897            -0.807792     11       3  \n",
       "3                         -0.704587            -0.756181     10       4  \n",
       "4                         -0.704587            -0.807792     11       5  \n",
       "...                             ...                  ...    ...     ...  \n",
       "198115                     0.656538             0.290994     17  198116  \n",
       "198116                     0.658601             0.284552      0  198117  \n",
       "198117                     0.658143             0.281484      0  198118  \n",
       "198118                     0.656309             0.281178      0  198119  \n",
       "198119                     0.651496             0.280871      0  198120  \n",
       "\n",
       "[198120 rows x 25 columns]"
      ]
     },
     "execution_count": 81,
     "metadata": {},
     "output_type": "execute_result"
    }
   ],
   "source": [
    "df_trainingStations_mean_zscore"
   ]
  },
  {
   "cell_type": "code",
   "execution_count": 82,
   "metadata": {},
   "outputs": [],
   "source": [
    "df_trainingStations_mean = df_trainingStations_mean_zscore[cols_to_keep]"
   ]
  },
  {
   "cell_type": "code",
   "execution_count": 83,
   "metadata": {},
   "outputs": [],
   "source": [
    "#counter = 0\n",
    "#mean_whole_col = df_trainingStations_mean[['temperature_C']].mean(skipna = True)\n",
    "#for index, row in df_trainingStations_mean.iterrows():\n",
    "#    if math.isnan(row['temperature_C']) == True:\n",
    "#        df_trainingStations_mean.loc[counter,'temperature_C'] = mean_whole_col.values[0]\n",
    "#    counter = counter + 1"
   ]
  },
  {
   "cell_type": "code",
   "execution_count": 84,
   "metadata": {},
   "outputs": [],
   "source": [
    "X = df_trainingStations_mean\n",
    "y = df_trainingStations_mean[[\"bikes\",\"Id\"]].to_numpy()\n",
    "del X[\"bikes\"]\n",
    "X = X.to_numpy()"
   ]
  },
  {
   "cell_type": "code",
   "execution_count": 85,
   "metadata": {},
   "outputs": [],
   "source": [
    "#Partimos el dataset de train en entrenamiento y test de forma aleatoria\n",
    "X_train, X_test_cv, y_train, y_test_cv = train_test_split(X, y, random_state=1)"
   ]
  },
  {
   "cell_type": "code",
   "execution_count": 86,
   "metadata": {},
   "outputs": [],
   "source": [
    "X_train_Id = X_train[:,17]\n",
    "X_train = np.delete(X_train, 17, 1)\n",
    "X_test_cv_Id = X_test_cv[:,17]\n",
    "X_test_cv = np.delete(X_test_cv, 17, 1)\n",
    "y_train_Id = y_train[:,1]\n",
    "y_train = np.delete(y_train, 1, 1)\n",
    "y_test_cv_Id = y_test_cv[:,1]\n",
    "y_test_cv = np.delete(y_test_cv, 1, 1)"
   ]
  },
  {
   "cell_type": "code",
   "execution_count": 87,
   "metadata": {},
   "outputs": [
    {
     "data": {
      "text/plain": [
       "array([[-1.03501012, -0.18404404, -1.08471771, ..., -0.89400967,\n",
       "        -1.24447644, -1.42712439],\n",
       "       [-0.97656022, -1.61588593, -1.2827879 , ..., -0.51542382,\n",
       "        -0.47320632,  0.53409472],\n",
       "       [-1.01552682, -0.20533147, -0.80251719, ..., -0.7422179 ,\n",
       "        -0.62746034, -0.44651483],\n",
       "       ...,\n",
       "       [-0.99604352, -0.14391198, -0.58769586, ..., -1.16360688,\n",
       "        -0.28038879,  0.01798443],\n",
       "       [-1.07397672,  0.92988219, -1.21380317, ..., -1.47131884,\n",
       "        -0.89740489, -1.42712439],\n",
       "       [ 0.95228653,  0.32755241,  0.85060093, ...,  0.85677154,\n",
       "         0.64215128,  0.26651611]])"
      ]
     },
     "execution_count": 87,
     "metadata": {},
     "output_type": "execute_result"
    }
   ],
   "source": [
    "X_train"
   ]
  },
  {
   "cell_type": "code",
   "execution_count": 88,
   "metadata": {},
   "outputs": [],
   "source": [
    "regr = LinearRegression().fit(X_train, y_train)"
   ]
  },
  {
   "cell_type": "code",
   "execution_count": 89,
   "metadata": {},
   "outputs": [],
   "source": [
    "y_pred_cv = regr.predict(X_test_cv)"
   ]
  },
  {
   "cell_type": "code",
   "execution_count": 90,
   "metadata": {},
   "outputs": [],
   "source": [
    "y_pred_cv = np.around(y_pred_cv.reshape(-1,1))\n",
    "y_pred_cv = y_pred_cv.astype('int64')"
   ]
  },
  {
   "cell_type": "code",
   "execution_count": 91,
   "metadata": {},
   "outputs": [
    {
     "name": "stdout",
     "output_type": "stream",
     "text": [
      "4.439168180900464\n"
     ]
    }
   ],
   "source": [
    "print(metrics.mean_absolute_error(y_test_cv,y_pred_cv))"
   ]
  },
  {
   "cell_type": "code",
   "execution_count": 92,
   "metadata": {},
   "outputs": [],
   "source": [
    "y_pred_cv_neg = pd.DataFrame(y_pred_cv, columns = ['AA'])\n",
    "y_pred_cv_neg['AA'] = y_pred_cv_neg['AA'].apply(lambda x: 0 if x < 0 else x)\n",
    "y_pred_cv_neg = y_pred_cv_neg.to_numpy() "
   ]
  },
  {
   "cell_type": "markdown",
   "metadata": {},
   "source": [
    "<b>A partir de aquí obtenemos los datos de TEST para introducirlos en el csv</b>"
   ]
  },
  {
   "cell_type": "code",
   "execution_count": 93,
   "metadata": {},
   "outputs": [],
   "source": [
    "cols_to_keep = [\"station\", \"latitude\", \"longitude\", \"numDocks\", \"timestamp\", \"month\", \\\n",
    "                \"day\", \"hour\", \"weekday\", \"weekhour\", \"isHoliday\", \"temperature_C\", \"bikes_3h_ago\", \\\n",
    "                \"full_profile_3h_diff_bikes\", \"full_profile_bikes\", \\\n",
    "                \"short_profile_3h_diff_bikes\", \"short_profile_bikes\",\"Id\"]"
   ]
  },
  {
   "cell_type": "code",
   "execution_count": 94,
   "metadata": {},
   "outputs": [],
   "source": [
    "df_testStations_mean = df_testStations_mean_zscore[cols_to_keep]"
   ]
  },
  {
   "cell_type": "code",
   "execution_count": 95,
   "metadata": {},
   "outputs": [],
   "source": [
    "df_testStations_mean_zscore_Id = df_testStations_mean['Id']"
   ]
  },
  {
   "cell_type": "code",
   "execution_count": 96,
   "metadata": {},
   "outputs": [],
   "source": [
    "np_testStations_mean = df_testStations_mean.to_numpy()"
   ]
  },
  {
   "cell_type": "code",
   "execution_count": 97,
   "metadata": {},
   "outputs": [],
   "source": [
    "del df_testStations_mean['Id']"
   ]
  },
  {
   "cell_type": "code",
   "execution_count": 98,
   "metadata": {},
   "outputs": [],
   "source": [
    "y_pred_test = regr.predict(df_testStations_mean.to_numpy())"
   ]
  },
  {
   "cell_type": "code",
   "execution_count": 99,
   "metadata": {},
   "outputs": [],
   "source": [
    "y_pred_test = y_pred_test.reshape(-1,1).astype('int64')"
   ]
  },
  {
   "cell_type": "code",
   "execution_count": 100,
   "metadata": {},
   "outputs": [],
   "source": [
    "y_pred_test_Id = df_testStations_mean_zscore_Id.to_numpy().reshape(-1,1)"
   ]
  },
  {
   "cell_type": "code",
   "execution_count": 101,
   "metadata": {},
   "outputs": [],
   "source": [
    "y_pred_test\n",
    "y_pred_test_neg = pd.DataFrame(y_pred_test, columns = ['AA'])\n",
    "y_pred_test_neg['AA'] = y_pred_test_neg['AA'].apply(lambda x: 0 if x < 0 else x)\n",
    "y_pred_test_neg = y_pred_test_neg.to_numpy()"
   ]
  },
  {
   "cell_type": "code",
   "execution_count": 102,
   "metadata": {},
   "outputs": [],
   "source": [
    "Train_CV_Result = np.concatenate((y_test_cv_Id.reshape(-1,1), y_pred_cv), axis=1)\n",
    "Train_CV_Result = Train_CV_Result[np.argsort(Train_CV_Result[:, 0])]\n",
    "Test_Result = np.concatenate((y_pred_test_Id, y_pred_test_neg), axis=1)"
   ]
  },
  {
   "cell_type": "code",
   "execution_count": 103,
   "metadata": {},
   "outputs": [],
   "source": [
    "Test_Result = pd.DataFrame(Test_Result, columns=['Id','bikes'])\n",
    "Train_CV_Result = pd.DataFrame(Train_CV_Result, columns=['Id','bikes'])"
   ]
  },
  {
   "cell_type": "code",
   "execution_count": 104,
   "metadata": {},
   "outputs": [],
   "source": [
    "Neg_Train_CV_Result = Train_CV_Result\n",
    "Neg_Test_Result = Test_Result"
   ]
  },
  {
   "cell_type": "code",
   "execution_count": 105,
   "metadata": {},
   "outputs": [],
   "source": [
    "y_pred_cv_neg = Neg_Train_CV_Result['bikes']\n",
    "y_pred_cv_neg = y_pred_cv_neg.to_numpy().reshape(-1,1)"
   ]
  },
  {
   "cell_type": "code",
   "execution_count": 106,
   "metadata": {},
   "outputs": [],
   "source": [
    "Neg_Train_CV_Result.to_csv('Train_CV_Result_LR_Conc.csv', index=False)\n",
    "Neg_Test_Result.to_csv('Test_Result_LR_Conc.csv', index=False)"
   ]
  }
 ],
 "metadata": {
  "kernelspec": {
   "display_name": "Python 3",
   "language": "python",
   "name": "python3"
  },
  "language_info": {
   "codemirror_mode": {
    "name": "ipython",
    "version": 3
   },
   "file_extension": ".py",
   "mimetype": "text/x-python",
   "name": "python",
   "nbconvert_exporter": "python",
   "pygments_lexer": "ipython3",
   "version": "3.7.3"
  }
 },
 "nbformat": 4,
 "nbformat_minor": 4
}
